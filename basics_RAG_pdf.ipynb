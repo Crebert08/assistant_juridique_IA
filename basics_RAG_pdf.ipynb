{
 "cells": [
  {
   "cell_type": "code",
   "execution_count": 8,
   "metadata": {},
   "outputs": [],
   "source": [
    "from langchain_community.document_loaders import PyPDFLoader\n",
    "\n",
    "loader = PyPDFLoader(\"Burundi_Code_2017_penal.pdf\")\n",
    "data = loader.load()  # entire PDF is loaded as a single Document\n",
    "# data"
   ]
  },
  {
   "cell_type": "code",
   "execution_count": 9,
   "metadata": {},
   "outputs": [
    {
     "data": {
      "text/plain": [
       "128"
      ]
     },
     "execution_count": 9,
     "metadata": {},
     "output_type": "execute_result"
    }
   ],
   "source": [
    "len(data)"
   ]
  },
  {
   "cell_type": "code",
   "execution_count": 20,
   "metadata": {},
   "outputs": [
    {
     "name": "stdout",
     "output_type": "stream",
     "text": [
      "Total number of documents:  436\n"
     ]
    }
   ],
   "source": [
    "from langchain.text_splitter import RecursiveCharacterTextSplitter\n",
    "\n",
    "# split data\n",
    "text_splitter = RecursiveCharacterTextSplitter(chunk_size=1000)\n",
    "docs = text_splitter.split_documents(data)\n",
    "# print(docs[200])\n",
    "# print(\"================================================\")\n",
    "print(\"Total number of documents: \",len(docs))"
   ]
  },
  {
   "cell_type": "code",
   "execution_count": 25,
   "metadata": {},
   "outputs": [
    {
     "data": {
      "text/plain": [
       "[0.05168594419956207, -0.030764883384108543]"
      ]
     },
     "execution_count": 25,
     "metadata": {},
     "output_type": "execute_result"
    }
   ],
   "source": [
    "from langchain_chroma import Chroma\n",
    "from langchain_google_genai import GoogleGenerativeAIEmbeddings\n",
    "\n",
    "from dotenv import load_dotenv\n",
    "load_dotenv() \n",
    "\n",
    "#Get an API key: \n",
    "# Head to https://ai.google.dev/gemini-api/docs/api-key to generate a Google AI API key. Paste in .env file\n",
    "\n",
    "# Embedding models: https://python.langchain.com/v0.1/docs/integrations/text_embedding/\n",
    "\n",
    "embeddings = GoogleGenerativeAIEmbeddings(model=\"models/embedding-001\")\n",
    "vector = embeddings.embed_query(\"hello, world!\")\n",
    "vector[:5]\n",
    "#vector"
   ]
  },
  {
   "cell_type": "code",
   "execution_count": 27,
   "metadata": {},
   "outputs": [],
   "source": [
    "\n",
    "vectorstore = Chroma.from_documents(documents=docs, embedding=GoogleGenerativeAIEmbeddings(model=\"models/embedding-001\"))"
   ]
  },
  {
   "cell_type": "code",
   "execution_count": 32,
   "metadata": {},
   "outputs": [],
   "source": [
    "retriever = vectorstore.as_retriever(search_type=\"similarity\", search_kwargs={\"k\": 10})\n",
    "\n",
    "retrieved_docs = retriever.invoke(\"Quelles sont les différentes catégories d'infractions selon le Code pénal burundais ?\")"
   ]
  },
  {
   "cell_type": "code",
   "execution_count": 33,
   "metadata": {},
   "outputs": [
    {
     "data": {
      "text/plain": [
       "10"
      ]
     },
     "execution_count": 33,
     "metadata": {},
     "output_type": "execute_result"
    }
   ],
   "source": [
    "len(retrieved_docs)"
   ]
  },
  {
   "cell_type": "code",
   "execution_count": 34,
   "metadata": {},
   "outputs": [
    {
     "name": "stdout",
     "output_type": "stream",
     "text": [
      "www.droit‐afrique.com\t Burundi\n",
      "\t \t\n",
      "\t\n",
      "Code\tpénal\t2017\t 20\n",
      "2°\tLorsque\tl’action\tcomprend\tdes\tfaits\tqui,\tconstituant\tdes\tinf ractions\tdistinctes,\tsont\t\n",
      "unis\tentre\teux\tcomme\tprocédant\td ’une\tintention\tdélictuelle\tunique\tou\tcomme\tétant\tles\t\n",
      "uns\tdes\tcirconstances\taggravantes\tdes\tautres.\t\n",
      "Dans\tl’un\tet\tl’autre\tcas,\tla\tpeine\tla\tplus\tforte\test\tseule\tprononcée.\t\n",
      "Art.114.‐\tIl\ty\ta\tconcours\tréel\tlorsque\tles\tfaits,\tdistincts\tau\tpoint\td e\tvue\tmatériel,\tse\tsont\t\n",
      "succédés\tet\tont\tconstitué\tdes\tinfractions\tdistinctes.\tDans\tce\tc as\til\test\tprononcé\tdes\t\n",
      "peines\tpour\tchaque\tinfraction\tet\tles\tpeines\tprononcées\tsont\tcumulées\tsous\tréserves\tdes\t\n",
      "dispositions\tsuivantes\t:\t\n",
      "1°\tLa\tservitude\tpénale\tà\tperpétuité\tabsorbe\tde\tdroit\ttoute\tpeine\tprivative\tde\tliberté\t;\t\n",
      "2°\tLe\ttotal\tdes\tpeines\tcumulées\tde\tservitude\tpénale\tà\ttemps\tet\t des\tamendes\tne\tpeut\t\n",
      "dépasser\tle\tdouble\tdu\tmaximum\tdes\tpeines\tles\tplus\tfortes\tprévue s\tpar\tl’une\tou\tl’autre\t\n",
      "infraction\tretenue\tcontre\tle\tcondamné\t;\n"
     ]
    }
   ],
   "source": [
    "print(retrieved_docs[5].page_content)"
   ]
  },
  {
   "cell_type": "code",
   "execution_count": 52,
   "metadata": {},
   "outputs": [],
   "source": [
    "from langchain_google_genai import ChatGoogleGenerativeAI\n",
    "\n",
    "llm = ChatGoogleGenerativeAI(model=\"gemini-2.0-flash-lite\",temperature=0.7, max_tokens=500)"
   ]
  },
  {
   "cell_type": "code",
   "execution_count": 54,
   "metadata": {},
   "outputs": [],
   "source": [
    "from langchain.chains import create_retrieval_chain\n",
    "from langchain.chains.combine_documents import create_stuff_documents_chain\n",
    "from langchain_core.prompts import ChatPromptTemplate\n",
    "\n",
    "system_prompt = (\n",
    "    \"Vous êtes un assistant spécialisé dans la réponse aux questions concernant le Code pénal du Burundi.\"\n",
    "    \"Utilisez uniquement les extraits de contexte fournis pour formuler votre réponse \"\n",
    "    \"Si la réponse n’est pas présente dans le contexte, indiquez que vous ne savez pas \"\n",
    "    \"Répondez de manière claire, précise et en trois phrases maximum \"\n",
    "    \"Réponse flexible dans ta manière de parler..\"\n",
    "    \"\\n\\n\"\n",
    "    \"{context}\"\n",
    ")\n",
    "\n",
    "prompt = ChatPromptTemplate.from_messages(\n",
    "    [\n",
    "        (\"system\", system_prompt),\n",
    "        (\"human\", \"{input}\"),\n",
    "    ]\n",
    ")"
   ]
  },
  {
   "cell_type": "code",
   "execution_count": 55,
   "metadata": {},
   "outputs": [],
   "source": [
    "question_answer_chain = create_stuff_documents_chain(llm, prompt)\n",
    "rag_chain = create_retrieval_chain(retriever, question_answer_chain)"
   ]
  },
  {
   "cell_type": "code",
   "execution_count": null,
   "metadata": {},
   "outputs": [
    {
     "name": "stdout",
     "output_type": "stream",
     "text": [
      "Selon le Code pénal du Burundi, les infractions sont classées en trois catégories selon leur gravité. Ces catégories sont les crimes, les délits et les contraventions. Les crimes sont les infractions les plus graves, suivis des délits et enfin des contraventions, qui sont les moins graves.\n"
     ]
    }
   ],
   "source": [
    "response = rag_chain.invoke({\"input\": \"Le Code pénal aborde-t-il la question de la sorcellerie, et si oui, quelles sont les peines associées ?\"})\n",
    "print(response[\"answer\"])"
   ]
  }
 ],
 "metadata": {
  "kernelspec": {
   "display_name": "rag",
   "language": "python",
   "name": "python3"
  },
  "language_info": {
   "codemirror_mode": {
    "name": "ipython",
    "version": 3
   },
   "file_extension": ".py",
   "mimetype": "text/x-python",
   "name": "python",
   "nbconvert_exporter": "python",
   "pygments_lexer": "ipython3",
   "version": "3.13.1"
  }
 },
 "nbformat": 4,
 "nbformat_minor": 2
}
