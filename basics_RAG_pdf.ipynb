{
 "cells": [
  {
   "cell_type": "code",
   "execution_count": 24,
   "metadata": {},
   "outputs": [],
   "source": [
    "from langchain_community.document_loaders import PyPDFLoader\n",
    "\n",
    "loader = PyPDFLoader(\"Burundi_Code_2017_penal.pdf\")\n",
    "data = loader.load()  # entire PDF is loaded as a single Document\n",
    "# data"
   ]
  },
  {
   "cell_type": "code",
   "execution_count": 25,
   "metadata": {},
   "outputs": [
    {
     "data": {
      "text/plain": [
       "128"
      ]
     },
     "execution_count": 25,
     "metadata": {},
     "output_type": "execute_result"
    }
   ],
   "source": [
    "len(data)"
   ]
  },
  {
   "cell_type": "code",
   "execution_count": 26,
   "metadata": {},
   "outputs": [
    {
     "name": "stdout",
     "output_type": "stream",
     "text": [
      "Total number of documents:  824\n"
     ]
    }
   ],
   "source": [
    "from langchain.text_splitter import RecursiveCharacterTextSplitter\n",
    "\n",
    "# split data\n",
    "text_splitter = RecursiveCharacterTextSplitter(chunk_size=600)\n",
    "docs = text_splitter.split_documents(data)\n",
    "# print(docs[200])\n",
    "# print(\"================================================\")\n",
    "print(\"Total number of documents: \",len(docs))"
   ]
  },
  {
   "cell_type": "code",
   "execution_count": 27,
   "metadata": {},
   "outputs": [
    {
     "data": {
      "text/plain": [
       "[0.05168594419956207,\n",
       " -0.030764883384108543,\n",
       " -0.03062233328819275,\n",
       " -0.02802734263241291,\n",
       " 0.01813093200325966]"
      ]
     },
     "execution_count": 27,
     "metadata": {},
     "output_type": "execute_result"
    }
   ],
   "source": [
    "from langchain_chroma import Chroma\n",
    "from langchain_google_genai import GoogleGenerativeAIEmbeddings\n",
    "\n",
    "from dotenv import load_dotenv\n",
    "load_dotenv() \n",
    "\n",
    "#Get an API key: \n",
    "# Head to https://ai.google.dev/gemini-api/docs/api-key to generate a Google AI API key. Paste in .env file\n",
    "\n",
    "# Embedding models: https://python.langchain.com/v0.1/docs/integrations/text_embedding/\n",
    "\n",
    "embeddings = GoogleGenerativeAIEmbeddings(model=\"models/embedding-001\")\n",
    "vector = embeddings.embed_query(\"hello, world!\")\n",
    "vector[:5]\n",
    "#vector"
   ]
  },
  {
   "cell_type": "code",
   "execution_count": 28,
   "metadata": {},
   "outputs": [],
   "source": [
    "\n",
    "vectorstore = Chroma.from_documents(documents=docs, embedding=GoogleGenerativeAIEmbeddings(model=\"models/embedding-001\"))"
   ]
  },
  {
   "cell_type": "code",
   "execution_count": 29,
   "metadata": {},
   "outputs": [],
   "source": [
    "retriever = vectorstore.as_retriever(search_type=\"similarity\", search_kwargs={\"k\": 10})\n",
    "\n",
    "retrieved_docs = retriever.invoke(\"Selon l'article 1, qu'est-ce qu'une infraction ?\")"
   ]
  },
  {
   "cell_type": "code",
   "execution_count": 30,
   "metadata": {},
   "outputs": [
    {
     "data": {
      "text/plain": [
       "10"
      ]
     },
     "execution_count": 30,
     "metadata": {},
     "output_type": "execute_result"
    }
   ],
   "source": [
    "len(retrieved_docs)"
   ]
  },
  {
   "cell_type": "code",
   "execution_count": 31,
   "metadata": {},
   "outputs": [
    {
     "name": "stdout",
     "output_type": "stream",
     "text": [
      "Code.\t\n",
      "Art.19.‐\tL’auteur\tde\tl’infraction\test\tcelui\tqui\ten\tcommet\tpersonnelleme nt\tles\tdifférents\t\n",
      "éléments\tmatériels\tet\tintellectuels\ttels\tque\tdéfinis\tpar\tla\tloi.\t\n",
      "Art.20.‐\tL’auteur\tintellectuel\test\tcelui\tqui\tconçoit\tl’infraction\tet\tfa it\tréaliser\ttous\tou\t\n",
      "certains\tactes\tmatériels\tpar\tun\ttiers.\t\n",
      "Art.21.‐\t A\t l’exception\t de\t celles\t citées\t à\t l’article\t 24,\t les\t personnes\t morales\t sont\t\n",
      "pénalement\t responsables\t des\t infractions\t commises\t par\t leurs\t dirigeants\t ou\t\n",
      "représentants\tlégaux\tagissant\tpour\tle\tcompte\tde\tces\tpersonnes\to u\tdans\tla\tdéfense\tde\n"
     ]
    }
   ],
   "source": [
    "print(retrieved_docs[5].page_content)"
   ]
  },
  {
   "cell_type": "code",
   "execution_count": 32,
   "metadata": {},
   "outputs": [],
   "source": [
    "from langchain_google_genai import ChatGoogleGenerativeAI\n",
    "\n",
    "llm = ChatGoogleGenerativeAI(model=\"gemini-2.0-flash-lite\",temperature=1, max_tokens=500)"
   ]
  },
  {
   "cell_type": "code",
   "execution_count": 33,
   "metadata": {},
   "outputs": [],
   "source": [
    "from langchain.chains import create_retrieval_chain\n",
    "from langchain.chains.combine_documents import create_stuff_documents_chain\n",
    "from langchain_core.prompts import ChatPromptTemplate\n",
    "\n",
    "system_prompt = (\n",
    "    \"Vous êtes un assistant spécialisé dans la réponse aux questions concernant le Code pénal du Burundi.\"\n",
    "    \"Utilisez uniquement les extraits de contexte fournis pour formuler votre réponse \"\n",
    "    \"Si la réponse n’est pas présente dans le contexte, indiquez que vous ne savez pas \"\n",
    "    \"Répondez de manière claire, précise et en trois phrases maximum \"\n",
    "    \"Réponse flexible dans ta manière de parler.\"\n",
    "    \"\\n\\n\"\n",
    "    \"{context}\"\n",
    ")\n",
    "\n",
    "prompt = ChatPromptTemplate.from_messages(\n",
    "    [\n",
    "        (\"system\", system_prompt),\n",
    "        (\"human\", \"{input}\"),\n",
    "    ]\n",
    ")"
   ]
  },
  {
   "cell_type": "code",
   "execution_count": 34,
   "metadata": {},
   "outputs": [],
   "source": [
    "question_answer_chain = create_stuff_documents_chain(llm, prompt)\n",
    "rag_chain = create_retrieval_chain(retriever, question_answer_chain)"
   ]
  },
  {
   "cell_type": "code",
   "execution_count": 49,
   "metadata": {},
   "outputs": [
    {
     "name": "stdout",
     "output_type": "stream",
     "text": [
      "Oui, le Code pénal du Burundi fait une distinction entre voler un portefeuille et cambrioler une maison. Voler un portefeuille peut être considéré comme un vol simple, tandis que cambrioler une maison avec effraction est un vol aggravé.\n",
      "\n",
      "Les punitions varient en fonction des circonstances. Le vol simple est puni de peines spécifiques, tandis que le cambriolage, en raison de ses circonstances aggravantes, entraîne des peines plus sévères, allant jusqu'à la servitude pénale à perpétuité dans certains cas.\n",
      "\n",
      "Le vol est aussi aggravé s'il est commis la nuit, dans un local d'habitation ou ses dépendances, ou avec l'usage d'effraction, d'escalade ou de fausses clés.\n"
     ]
    }
   ],
   "source": [
    "response = rag_chain.invoke({\"input\": \"Est-ce que la loi fait une différence entre voler un portefeuille dans un sac et cambrioler une maison en cassant une fenêtre ? Comment les punitions changent-elles ?\"})\n",
    "print(response[\"answer\"])"
   ]
  }
 ],
 "metadata": {
  "kernelspec": {
   "display_name": "rag",
   "language": "python",
   "name": "python3"
  },
  "language_info": {
   "codemirror_mode": {
    "name": "ipython",
    "version": 3
   },
   "file_extension": ".py",
   "mimetype": "text/x-python",
   "name": "python",
   "nbconvert_exporter": "python",
   "pygments_lexer": "ipython3",
   "version": "3.13.1"
  }
 },
 "nbformat": 4,
 "nbformat_minor": 2
}
